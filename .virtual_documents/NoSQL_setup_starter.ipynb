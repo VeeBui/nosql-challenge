








# Import dependencies
from pymongo import MongoClient
from pprint import pprint


# Create an instance of MongoClient
mongo = MongoClient(port=27017)


# confirm that our new database was created
print(mongo.list_database_names())


# assign the uk_food database to a variable name
db = mongo['uk_food']


# review the collections in our new database
print(db.list_collection_names())


# review a document in the establishments collection
pprint(db.establishments.find_one())


# assign the collection to a variable
establishments = db['establishments']








# Create a dictionary for the new restaurant data
new_restaurant = {"BusinessName": "Penang Flavours",
                 "BusinessType": "Restaurant",
                 "LocalAuthorityName": "Greenwich"}


# Insert the new restaurant into the collection
establishments.insert_one(new_restaurant)


# Check that the new restaurant was inserted
query = {'BusinessName': 'Penang Flavours'}
results = establishments.find(query)
for result in results:
    pprint(result)





# Find the BusinessTypeID for "Restaurant/Cafe/Canteen" and return only the BusinessTypeID and BusinessType fields
query = {'BusinessType': 'Restaurant/Cafe/Canteen'}
fields = {"BusinessTypeID": 1, "BusinessType": 1}
results = establishments.find(query, fields)

pprint(results[0])





# Update the new restaurant with the correct BusinessTypeID
db.establishments.update_one(
    {"BusinessName": "Penang Flavours"},
    {"$set": 
     {"BusinessTypeID": 1}
    }
)


# Confirm that the new restaurant was updated
query = {'BusinessName': 'Penang Flavours'}
results = establishments.find(query)
for result in results:
    pprint(result)





# Find how many documents have LocalAuthorityName as "Dover"
count_dover = establishments.count_documents(
    {
        "LocalAuthorityName" : "Dover"
    }
)
print(f"Number of documents in Dover: %d" % count_dover)


# Delete all documents where LocalAuthorityName is "Dover"
query = {"LocalAuthorityName": "Dover"}
d = establishments.delete_many(query)

# code found here: https://www.geeksforgeeks.org/python-mongodb-delete_many/
print(f"Number of documents deleted: %d" % d.deleted_count)


# Check if any remaining documents include Dover
count_dover = establishments.count_documents(
    {
        "LocalAuthorityName" : "Dover"
    }
)
print(f"Number of documents in Dover: %d" % count_dover)


# Check that other documents remain with 'find_one'
pprint(db.establishments.find_one())








# Change the data type from String to Decimal for longitude and latitude
establishments.update_many({}, 
                           [{'$set': 
                             {'geocode.latitude': {'$toDouble': '$geocode.latitude'}}
                            },
                           {'$set': 
                             {'geocode.longitude': {'$toDouble': '$geocode.longitude'}}
                            }]
                          )
#establishments.update_many({}, [{'$set': {'fgm': {'$toInt': '$fgm'}}}])





# Set non 1-5 Rating Values to Null
non_ratings = ["AwaitingInspection", "Awaiting Inspection", "AwaitingPublication", "Pass", "Exempt"]
establishments.update_many({"RatingValue": {"$in": non_ratings}}, [ {'$set':{ "RatingValue" : None}} ])


# Change the data type from String to Integer for RatingValue
establishments.update_many({}, 
                           [{'$set': 
                             {'RatingValue': {'$toInt': '$RatingValue'}}
                            }]
                          )


# Check that the coordinates and rating value are now numbers
query = {}
fields = {"geocode": 1, "RatingValue": 1}
results = establishments.find(query, fields)

pprint(results[0])



