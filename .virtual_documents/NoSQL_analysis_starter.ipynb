





# Import dependencies
from pymongo import MongoClient
import pandas as pd
from pprint import pprint


# Create an instance of MongoClient
mongo = MongoClient(port=27017)


# assign the uk_food database to a variable name
db = mongo['uk_food']


# review the collections in our database
print(db.list_collection_names())


# assign the collection to a variable
establishments = db['establishments']








# Find the establishments with a hygiene score of 20
query = {"scores.Hygiene": 20}
results = establishments.find(query)

# Use count_documents to display the number of documents in the result
r_count = establishments.count_documents(query)
print(f"Number of establishments with a hygeine scores of 20: %d\n" % r_count)

# Display the first document in the results using pprint
pprint(results[0])


# Convert the result to a Pandas DataFrame
hygeine20_df = pd.DataFrame(list(results))

# Display the number of rows in the DataFrame
print("Number of rows: %d\n" % len(hygeine20_df))

# Display the first 10 rows of the DataFrame
hygeine20_df.head(10)





# Find the establishments with London as the Local Authority and has a RatingValue greater than or equal to 4.
query = {"LocalAuthorityName": {"$regex": "London"},
        "RatingValue": {"$gte": 4}}
results = establishments.find(query)

# Use count_documents to display the number of documents in the result
r_count = establishments.count_documents(query)
print(f"Number of establishments in London with rating >= 4: %d\n" % r_count)

# Display the first document in the results using pprint
pprint(results[0])


# Convert the result to a Pandas DataFrame
London_rating4_df = pd.DataFrame(list(results))

# Display the number of rows in the DataFrame
print("Number of rows: %d\n" % len(London_rating4_df))

# Display the first 10 rows of the DataFrame
London_rating4_df.head(10)





# Search within 0.01 degree on either side of the latitude and longitude.
# Rating value must equal 5
# Sort by hygiene score
results = establishments.find_one({"BusinessName": 'Penang Flavours'})

degree_search = 0.01
latitude = results['geocode']['latitude']
longitude = results['geocode']['longitude']

query = {"geocode.latitude": {"$gte": latitude - degree_search},
        "geocode.latitude": {"$lte": latitude + degree_search},
        "geocode.longitude": {"$gte": longitude - degree_search},
        "geocode.longitude": {"$lte": longitude + degree_search},
        "RatingValue": 5,
        "scores.Hygiene": {"$nin": [None, '']}}
sort = [("scores.Hygiene", 1)]
limit = 5

# Print the results
results = list(establishments.find(query).sort(sort).limit(limit))

pprint(results)


# Convert result to Pandas DataFrame
top_restaurants_near_PenangFlavours_df = pd.DataFrame(results)
top_restaurants_near_PenangFlavours_df





# Create a pipeline that:
# 1. Matches establishments with a hygiene score of 0
# 2. Groups the matches by Local Authority
# 3. Sorts the matches from highest to lowest
match_query = {'$match': {'scores.Hygiene': 0}}
group_query = {'$group': {'_id': "$LocalAuthorityName",
                          'count': { '$sum': 1 }
                         }
              }
sort_values = {'$sort': {'count': -1}}

pipeline = [match_query, group_query, sort_values]

results = list(establishments.aggregate(pipeline))

# Print the number of documents in the result
print(f"Number of documents that match: %d\n" % len(results))

# Print the first 10 results
for i in range(0,10):
    pprint(results[i])


# Convert the result to a Pandas DataFrame
hygiene0_df = pd.DataFrame(results)

# Display the number of rows in the DataFrame
print("Number of rows: %d\n" % len(hygiene0_df))

# Display the first 10 rows of the DataFrame
hygiene0_df.head(10)



